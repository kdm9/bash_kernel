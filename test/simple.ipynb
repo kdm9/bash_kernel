{
 "cells": [
  {
   "cell_type": "code",
   "execution_count": null,
   "id": "8179799c-d237-453c-923b-779767a75c7e",
   "metadata": {},
   "outputs": [],
   "source": [
    "seq 1 10"
   ]
  },
  {
   "cell_type": "code",
   "execution_count": null,
   "id": "8f5ce32c-10f3-4b20-b1f5-6836949ef4e4",
   "metadata": {},
   "outputs": [],
   "source": [
    "v=1\n",
    "a=\"test\""
   ]
  },
  {
   "cell_type": "code",
   "execution_count": null,
   "id": "c40e97bb-0800-4d06-83e6-cfb6b7748cd1",
   "metadata": {},
   "outputs": [],
   "source": [
    "echo \"${#a} ${a} ${v}\""
   ]
  }
 ],
 "metadata": {
  "kernelspec": {
   "display_name": "Bash",
   "language": "bash",
   "name": "bash"
  },
  "language_info": {
   "codemirror_mode": "shell",
   "file_extension": ".sh",
   "mimetype": "text/x-sh",
   "name": "bash"
  }
 },
 "nbformat": 4,
 "nbformat_minor": 5
}
